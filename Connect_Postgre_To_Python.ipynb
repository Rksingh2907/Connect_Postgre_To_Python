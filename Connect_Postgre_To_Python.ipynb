{
 "cells": [
  {
   "cell_type": "markdown",
   "id": "baf682b0",
   "metadata": {},
   "source": [
    "# Creating a Table in PostgreSQL"
   ]
  },
  {
   "cell_type": "markdown",
   "id": "c52b581c",
   "metadata": {},
   "source": [
    "**Before creating a table in postgreSQL using python code. You first need to fullfil the following prerequisite are:**\n",
    "* Install the library called psycopg2 to use its method and functions\n",
    "* Import the psycopg2\n"
   ]
  },
  {
   "cell_type": "code",
   "execution_count": 3,
   "id": "09e0d7dc",
   "metadata": {
    "scrolled": true
   },
   "outputs": [
    {
     "name": "stdout",
     "output_type": "stream",
     "text": [
      "Collecting psycopg2\n",
      "  Downloading psycopg2-2.9.6-cp39-cp39-win_amd64.whl (1.2 MB)\n",
      "     ---------------------------------------- 1.2/1.2 MB 2.5 MB/s eta 0:00:00\n",
      "Installing collected packages: psycopg2\n",
      "Successfully installed psycopg2-2.9.6\n"
     ]
    },
    {
     "name": "stderr",
     "output_type": "stream",
     "text": [
      "\n",
      "[notice] A new release of pip is available: 23.0.1 -> 23.1.2\n",
      "[notice] To update, run: python.exe -m pip install --upgrade pip\n"
     ]
    }
   ],
   "source": [
    "!pip install psycopg2"
   ]
  },
  {
   "cell_type": "markdown",
   "id": "8354cee5",
   "metadata": {},
   "source": [
    "## Import the Library"
   ]
  },
  {
   "cell_type": "code",
   "execution_count": 1,
   "id": "e56d11b2",
   "metadata": {},
   "outputs": [],
   "source": [
    "import psycopg2"
   ]
  },
  {
   "cell_type": "markdown",
   "id": "206cc101",
   "metadata": {},
   "source": [
    "-- Performing all the steps to connect with postgreSQL"
   ]
  },
  {
   "cell_type": "markdown",
   "id": "a8580b11",
   "metadata": {},
   "source": [
    "# Step 1: Connection & Cursor "
   ]
  },
  {
   "cell_type": "markdown",
   "id": "08dc5251",
   "metadata": {},
   "source": [
    "***. Use the connect() function of the “psycopg2” module to establish a connection with Postgres:**"
   ]
  },
  {
   "cell_type": "code",
   "execution_count": 8,
   "id": "3e3b3cd8",
   "metadata": {},
   "outputs": [
    {
     "name": "stdout",
     "output_type": "stream",
     "text": [
      "Successfully Connected!\n"
     ]
    }
   ],
   "source": [
    "try:\n",
    "    con = psycopg2.connect(\n",
    "    user=\"postgres\",\n",
    "    password=\"Ashok@123\",\n",
    "    host=\"localhost\",\n",
    "    port= '5433')\n",
    "    print(\"Successfully Connected!\")\n",
    "except psycopg2.Error as e:\n",
    "    print(\"Error: Could not make a connection to the postgreSQL Database!\")\n",
    "    print(e)"
   ]
  },
  {
   "cell_type": "markdown",
   "id": "03ee18e7",
   "metadata": {},
   "source": [
    "#### After successfull connection of postgres, we need to get the cursor that can be used to execute query, means cursor will help us to make query to the database."
   ]
  },
  {
   "cell_type": "code",
   "execution_count": 14,
   "id": "bbe3d425",
   "metadata": {},
   "outputs": [],
   "source": [
    "try:\n",
    "    cur = con.cursor()\n",
    "except psycopg2.Error as e:\n",
    "    print(\"Error: Cloud not get cursor to the Database\")\n",
    "    print(e)"
   ]
  },
  {
   "cell_type": "markdown",
   "id": "357b8978",
   "metadata": {},
   "source": [
    "# Step2 : Create a database to do the work in "
   ]
  },
  {
   "cell_type": "code",
   "execution_count": 16,
   "id": "909bad8f",
   "metadata": {},
   "outputs": [],
   "source": [
    "try:\n",
    "    cur.execute(\"CREATE DATABASE myfirstDb\")\n",
    "except psycopg2.Error as e:\n",
    "    print(e)"
   ]
  },
  {
   "cell_type": "markdown",
   "id": "88979305",
   "metadata": {},
   "source": [
    "## Add the database name in the connect function statement, Let's close our connection to the default database, reconnect to the myfirstDb, and get a  new cursor"
   ]
  },
  {
   "cell_type": "code",
   "execution_count": 18,
   "id": "86a7878d",
   "metadata": {},
   "outputs": [
    {
     "name": "stdout",
     "output_type": "stream",
     "text": [
      "Succussfully Connected!\n"
     ]
    }
   ],
   "source": [
    "# try:\n",
    "#     con.close()\n",
    "# except psycopg2.Error as e:\n",
    "#     print(e)\n",
    "\n",
    "try:\n",
    "    conn = psycopg2.connect(dbname=\"myfirstdb\",\n",
    "                            user=\"postgres\",\n",
    "                            password=\"Ashok@123\",\n",
    "                            host=\"localhost\",\n",
    "                            port= '5433')\n",
    "    print(\"Succussfully Connected!\")\n",
    "except psycopg2.Error as e:\n",
    "    print(f\"Error: Could not connect to the database!\")\n",
    "    print(e)\n",
    "    \n",
    "    \n",
    "try:\n",
    "    n_cur = conn.cursor()\n",
    "except psycopg2.Error as e:\n",
    "    print(e)"
   ]
  },
  {
   "cell_type": "markdown",
   "id": "39a3c865",
   "metadata": {},
   "source": [
    "# Set automatic commit to be true so that each action is committed without having to call conn.commit() after each command"
   ]
  },
  {
   "cell_type": "code",
   "execution_count": 23,
   "id": "df22cf19",
   "metadata": {},
   "outputs": [],
   "source": [
    "conn.commit() # this is also used reflect in the database, without this it will never reflect"
   ]
  },
  {
   "cell_type": "code",
   "execution_count": 19,
   "id": "883217e7",
   "metadata": {
    "scrolled": true
   },
   "outputs": [
    {
     "name": "stdout",
     "output_type": "stream",
     "text": [
      "relation \"student_details\" already exists\n",
      "\n"
     ]
    }
   ],
   "source": [
    "try:\n",
    "    sql = ''' CREATE TABLE Student_Details\n",
    "    (student_id int,\n",
    "    Student_name Varchar(20),\n",
    "    Age int, \n",
    "    Gender Varchar(10), \n",
    "    Subject Varchar(15), \n",
    "    Mark int)\n",
    "    '''\n",
    "    n_cur.execute(sql)\n",
    "    print(\"Table Creted!\")\n",
    "except psycopg2.Error as e:\n",
    "    print(e)\n",
    "    "
   ]
  },
  {
   "cell_type": "code",
   "execution_count": 21,
   "id": "377e7358",
   "metadata": {},
   "outputs": [],
   "source": [
    "n_cur.execute(\"rollback\")"
   ]
  },
  {
   "cell_type": "markdown",
   "id": "7ff116bf",
   "metadata": {},
   "source": [
    "## Inserting the Data Element inside the Table"
   ]
  },
  {
   "cell_type": "code",
   "execution_count": 22,
   "id": "22857ee6",
   "metadata": {},
   "outputs": [],
   "source": [
    "try:\n",
    "    insert_Data = '''INSERT INTO Student_Details\n",
    "                     VALUES(1,'Paul',  32, 'Male',  'English', 50),\n",
    "                           (2,'Allen', 25, 'Male',  'English', 90),\n",
    "                           (3,'Teddy', 26, 'Female','Maths',   80),\n",
    "                           (4,'Mark',  23, 'Male',  'Physics', 70)'''\n",
    "    n_cur.execute(insert_Data)\n",
    "except psycopg2.Error as e:\n",
    "    print(e)\n"
   ]
  },
  {
   "cell_type": "markdown",
   "id": "adf5a9c9",
   "metadata": {},
   "source": [
    "# To display the executed query and the data"
   ]
  },
  {
   "cell_type": "code",
   "execution_count": 44,
   "id": "f7bad7d8",
   "metadata": {},
   "outputs": [],
   "source": [
    "try:\n",
    "    n_cur.execute(\"Select * From student_details where student_id % 2 = 0\")\n",
    "except psycopg2.Error as e:\n",
    "    print(e)\n"
   ]
  },
  {
   "cell_type": "code",
   "execution_count": 45,
   "id": "d633975b",
   "metadata": {},
   "outputs": [
    {
     "name": "stdout",
     "output_type": "stream",
     "text": [
      "(2, 'Allen', 25, 'Male', 'English', 90)\n",
      "(4, 'Mark', 23, 'Male', 'Physics', 70)\n",
      "(2, 'Allen', 25, 'Male', 'English', 90)\n",
      "(4, 'Mark', 23, 'Male', 'Physics', 70)\n"
     ]
    }
   ],
   "source": [
    "result = n_cur.fetchone();\n",
    "while result:\n",
    "    print(result)\n",
    "    result = n_cur.fetchone()\n",
    "#Fetching 1st row from the table\n",
    "# result = cursor.fetchall();\n",
    "# print(result)"
   ]
  },
  {
   "cell_type": "code",
   "execution_count": 37,
   "id": "2a36b3b7",
   "metadata": {},
   "outputs": [
    {
     "name": "stdout",
     "output_type": "stream",
     "text": [
      "[(1, 'Paul', 32, 'Male', 'English', 50), (2, 'Allen', 25, 'Male', 'English', 90), (3, 'Teddy', 26, 'Female', 'Maths', 80), (4, 'Mark', 23, 'Male', 'Physics', 70), (1, 'Paul', 32, 'Male', 'English', 50), (2, 'Allen', 25, 'Male', 'English', 90), (3, 'Teddy', 26, 'Female', 'Maths', 80), (4, 'Mark', 23, 'Male', 'Physics', 70)]\n"
     ]
    }
   ],
   "source": [
    "results = n_cur.fetchall();\n",
    "print(results,end=\"\\n\")"
   ]
  },
  {
   "cell_type": "markdown",
   "id": "1f8d6784",
   "metadata": {},
   "source": [
    "# Finally, you have to close the cursor and connections"
   ]
  },
  {
   "cell_type": "code",
   "execution_count": 46,
   "id": "b0a5a4e5",
   "metadata": {},
   "outputs": [],
   "source": [
    "n_cur.close()\n",
    "conn.close()"
   ]
  },
  {
   "cell_type": "code",
   "execution_count": null,
   "id": "12147812",
   "metadata": {},
   "outputs": [],
   "source": []
  }
 ],
 "metadata": {
  "kernelspec": {
   "display_name": "Python 3 (ipykernel)",
   "language": "python",
   "name": "python3"
  },
  "language_info": {
   "codemirror_mode": {
    "name": "ipython",
    "version": 3
   },
   "file_extension": ".py",
   "mimetype": "text/x-python",
   "name": "python",
   "nbconvert_exporter": "python",
   "pygments_lexer": "ipython3",
   "version": "3.9.7"
  }
 },
 "nbformat": 4,
 "nbformat_minor": 5
}
